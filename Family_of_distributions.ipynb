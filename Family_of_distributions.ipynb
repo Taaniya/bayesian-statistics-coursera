{
  "nbformat": 4,
  "nbformat_minor": 0,
  "metadata": {
    "colab": {
      "name": "Family_of_distributions",
      "provenance": [],
      "collapsed_sections": []
    },
    "kernelspec": {
      "name": "python3",
      "display_name": "Python 3"
    }
  },
  "cells": [
    {
      "cell_type": "markdown",
      "metadata": {
        "id": "NiLl2Z6E4c99"
      },
      "source": [
        "#### This notebook explores different family of probability distributions\n"
      ]
    },
    {
      "cell_type": "code",
      "metadata": {
        "id": "PxfD-u7dPDyR"
      },
      "source": [
        "from scipy import stats\n",
        "import matplotlib.pyplot as plt\n",
        "import numpy as np"
      ],
      "execution_count": null,
      "outputs": []
    },
    {
      "cell_type": "markdown",
      "metadata": {
        "id": "2-hF0ZlpQ-cr"
      },
      "source": [
        "###  Bernoulli distribution (Discrete)\n",
        "This probability distribution models a random variable taking on only 2 values with probabilities p and 1-p respectiviely.\n",
        "\n",
        "A bernoulli trial is a single trial with either of 2 outcomes where p is the probability of the successful outcome.\n",
        "eg. A class or dependent variable in each example i of the training data in logistic regression is a Bernoulli outcome with its success probability $p_i$\n",
        "\n",
        "X ~ B(p) \n",
        "\n",
        "i.e X is distributed as / is from Bernoulli distribution \n",
        "\n",
        "Here, the random variate of Bernoulli X, holds only 2 values i.e 1 for success and 0 for failure.\n",
        "\n",
        "PDF -\n",
        "\n",
        "$ F(X=x|p) = p^x(1-p)^{1-x}$\n",
        "\n",
        "where x = {0,1} i.e binary outcome\n"
      ]
    },
    {
      "cell_type": "markdown",
      "metadata": {
        "id": "ckRWDhTsRitI"
      },
      "source": [
        "### Binomial Distribution (Discrete)\n",
        "A random variable follows Binomial distribution when it holds the value of number of successes from N independent Bernoulli trials where p is the probability of success for each Bernoulli trial.\n",
        "\n",
        "X ~ Bin(n, p)\n",
        "\n",
        "$ P(X=x|p) = {n \\choose x} p^x(1-p)^{n-x}$\n",
        "\n",
        "where the combinatoric term ${n \\choose x } $ is the number of binomial sequences where we get x successes among n trials.\n",
        "\n"
      ]
    },
    {
      "cell_type": "code",
      "metadata": {
        "colab": {
          "base_uri": "https://localhost:8080/"
        },
        "id": "YUVW6IP75UNR",
        "outputId": "ee6d4107-70c1-448c-f7e6-6a9cdff77e67"
      },
      "source": [
        "# Drawing sample from binomial distribution\r\n",
        "# Get the number of heads for every n trials in 5 attempts\r\n",
        "n, p = 10, .5  # number of trials, probability of each trial\r\n",
        "s = np.random.binomial(n, p, 5)\r\n",
        "s"
      ],
      "execution_count": 22,
      "outputs": [
        {
          "output_type": "execute_result",
          "data": {
            "text/plain": [
              "array([5, 3, 5, 1, 2])"
            ]
          },
          "metadata": {
            "tags": []
          },
          "execution_count": 22
        }
      ]
    },
    {
      "cell_type": "markdown",
      "metadata": {
        "id": "0q4JY02u76lU"
      },
      "source": [
        "### Poisson distribution\r\n",
        "It models the probability of occurence of an event given number of times in a time interval when the average rate, i.e the number of times this event occurs in an interval on an average is $\\lambda$ .\r\n",
        "\r\n",
        "Random variates X represents the no. of events occuring at a particular time.\r\n",
        "\r\n",
        "X ~ Poisson($\\lambda$)\r\n",
        "\r\n",
        "The probability for an event to occur x no. of times in an interval \r\n",
        "\r\n",
        "$P(X=x|\\lambda) = \\frac{\\lambda^x exp(-\\lambda)}{x!}$\r\n",
        "\r\n",
        "eg. Fault prediction in electric cables, analysis of traffic flow."
      ]
    },
    {
      "cell_type": "code",
      "metadata": {
        "id": "jKiusQ14DM-X"
      },
      "source": [
        "# Example - No. of earthquakes per week is Poisson distributed with the rate of 2 earthquakes per week.\n",
        "# What will be the probability of observing at least 3 earthquakes in next 2 weeks, P(X >=3 ) = ?\n",
        "\n",
        "lambda_per_week = 2                                            # for rate of earthquake per week, X ~ Poi(2)\n",
        "lambda_per2week = lambda_per_week * 2                          # for rate of earthquake per 2 weeks, X ~ Poi(4)"
      ],
      "execution_count": null,
      "outputs": []
    },
    {
      "cell_type": "code",
      "metadata": {
        "id": "NftILojVFeiN",
        "colab": {
          "base_uri": "https://localhost:8080/",
          "height": 51
        },
        "outputId": "39aeaced-578f-4929-d60b-bb90f53b46da"
      },
      "source": [
        "# P(atleast 3 earthquakes in 2 weeks) = P(X >= 3) = 1 - P(X <=2 )\n",
        "\n",
        "prob_atleast_3 = 1 - stats.poisson.cdf(k=2, mu=lambda_per2week)\n",
        "print(prob_atleast_3)\n",
        "\n",
        "# using survival function = 1 - CDF\n",
        "stats.poisson.sf(2, mu=lambda_per2week)"
      ],
      "execution_count": null,
      "outputs": [
        {
          "output_type": "stream",
          "text": [
            "0.7618966944464556\n"
          ],
          "name": "stdout"
        },
        {
          "output_type": "execute_result",
          "data": {
            "text/plain": [
              "0.7618966944464556"
            ]
          },
          "metadata": {
            "tags": []
          },
          "execution_count": 84
        }
      ]
    },
    {
      "cell_type": "code",
      "metadata": {
        "id": "gwNPMaaWdYpi",
        "colab": {
          "base_uri": "https://localhost:8080/",
          "height": 265
        },
        "outputId": "6c7c4443-c80c-409c-d808-a6fa3364a762"
      },
      "source": [
        "# Plot for Poisson distribution for earthquake\n",
        "poisson_rvs = stats.poisson(2).rvs(1000)\n",
        "plt.hist(poisson_rvs, histtype='stepfilled', density=True)\n",
        "plt.show()"
      ],
      "execution_count": null,
      "outputs": [
        {
          "output_type": "display_data",
          "data": {
            "image/png": "[encoded data removed]",
            "text/plain": [
              "<Figure size 432x288 with 1 Axes>"
            ]
          },
          "metadata": {
            "tags": [],
            "needs_background": "light"
          }
        }
      ]
    },
    {
      "cell_type": "code",
      "metadata": {
        "id": "g6H5HUf5eDbs",
        "colab": {
          "base_uri": "https://localhost:8080/",
          "height": 265
        },
        "outputId": "778ba809-ab56-42a3-a28d-37008c4d4a3f"
      },
      "source": [
        "# Plot for Poisson distribution for earthquake\n",
        "poisson_rvs = stats.poisson(4).rvs(1000)\n",
        "plt.hist(poisson_rvs, histtype='stepfilled', density=True)\n",
        "plt.show()"
      ],
      "execution_count": null,
      "outputs": [
        {
          "output_type": "display_data",
          "data": {
            "image/png": "[encoded data removed]",
            "text/plain": [
              "<Figure size 432x288 with 1 Axes>"
            ]
          },
          "metadata": {
            "tags": [],
            "needs_background": "light"
          }
        }
      ]
    },
    {
      "cell_type": "markdown",
      "metadata": {
        "id": "AfU5aZXwb4I7"
      },
      "source": [
        "### Continuous probability distributions\n",
        "\n",
        "The probability that a continuous random variable lies within an interval is computed by area under the probability density curve within that interval - found by integrating the pdf in that interval.\n",
        "\n",
        "The total area under the curve of any pdf is equal to 1\n",
        "\n",
        "**Uniform distribution** is a continuous probability distribution\n",
        "\n",
        "F(x) = 1     for $x \\in {[0,1]}$ \n",
        "\n",
        "i.e all values of x in the range [0,1] are equally likely.\n",
        "\n",
        "to find the probability that x is in iterval [0,1/2], we integrate F(x) in this interval and obtain 0.5 i.e total area/2.\n",
        "\n",
        "Also, interestingly, probability of x = 1/2 i.e p(x=1/2) = 0 \n",
        "since x is a continuous variable , there are infinite number of x's or outcomes, and the probability of a particular one outcome is zero.Can be verified by integrating the pdf from 1/2 to 1/2 for this will also give 0.\n",
        "\n"
      ]
    },
    {
      "cell_type": "markdown",
      "metadata": {
        "id": "_I9Xz6XQf5Fs"
      },
      "source": [
        "Computing Expectation of Uniform distribution X ~ [0,2]"
      ]
    },
    {
      "cell_type": "code",
      "metadata": {
        "id": "SoBqqlXieJ5q",
        "colab": {
          "base_uri": "https://localhost:8080/",
          "height": 34
        },
        "outputId": "99b7f02d-796c-42c6-afd3-3fc8b23ccee5"
      },
      "source": [
        "# Limits of integral will be the limits of Uniform distribution\n",
        "lower_limit = 0\n",
        "upper_limit = 2\n",
        "integrate.quad(lambda x: x/(upper_limit - lower_limit), lower_limit, upper_limit)"
      ],
      "execution_count": null,
      "outputs": [
        {
          "output_type": "execute_result",
          "data": {
            "text/plain": [
              "(1.0, 1.1102230246251565e-14)"
            ]
          },
          "metadata": {
            "tags": []
          },
          "execution_count": 45
        }
      ]
    },
    {
      "cell_type": "markdown",
      "metadata": {
        "id": "MAFBCBLQgso8"
      },
      "source": [
        "The first value in the result is the estimated value of integral.\n",
        "\n",
        "The second value is the upper bound in the error."
      ]
    },
    {
      "cell_type": "markdown",
      "metadata": {
        "id": "ALxtQm6A2SCl"
      },
      "source": [
        "### Beta Distribution\n",
        "\n",
        "A continuous distribution in the interval [0,1] with 2 shape parameters of the distribution $ \\alpha $ and $\\beta $ appearnig as exponents of the random variable x. This is used to model the probability of success/failure in an event and is a conjugate prior for Bernoulli, Binomial, negative binomial & geometric distributions (Events involving success / failures). Beta distribution is a case of Dirichlet distribution when we have only 2 dimensions.\n",
        "\n",
        "$f(x| \\alpha, \\beta) =   \\frac{\\Gamma(\\alpha + \\beta) x^{\\alpha-1}(1-x)^{\\beta-1} }{\\Gamma(\\alpha) \\Gamma(\\beta)} $ "
      ]
    },
    {
      "cell_type": "code",
      "metadata": {
        "id": "o4eGKdZYvSKM",
        "colab": {
          "base_uri": "https://localhost:8080/",
          "height": 265
        },
        "outputId": "fb2b37c9-1911-4b1f-8b59-c9e62368d1de"
      },
      "source": [
        "x = np.linspace(0,1, 1000)\n",
        "plt.plot(x, stats.beta(a=1,b=1).pdf(x), label='a=1, b=1')\n",
        "plt.plot(x, stats.beta(a=1,b=2).pdf(x), label='a=1, b=2')\n",
        "plt.plot(x, stats.beta(a=2,b=1).pdf(x), label='a=2, b=1')\n",
        "plt.plot(x, stats.beta(a=1,b=3).pdf(x), label='a=1, b=3')\n",
        "plt.plot(x, stats.beta(a=2,b=3).pdf(x), label='a=2, b=3')\n",
        "plt.plot(x, stats.beta(a=2,b=2).pdf(x), label='a=2, b=2')\n",
        "plt.legend()\n",
        "plt.show()"
      ],
      "execution_count": null,
      "outputs": [
        {
          "output_type": "display_data",
          "data": {
            "image/png": "[encoded data removed]",
            "text/plain": [
              "<Figure size 432x288 with 1 Axes>"
            ]
          },
          "metadata": {
            "tags": [],
            "needs_background": "light"
          }
        }
      ]
    },
    {
      "cell_type": "code",
      "metadata": {
        "id": "4hSFi0mNymaY",
        "colab": {
          "base_uri": "https://localhost:8080/",
          "height": 315
        },
        "outputId": "3912fd69-02f2-4857-b9bf-5408ceb85169"
      },
      "source": [
        "plt.plot(x, stats.beta(a=0.5,b=0.5).pdf(x), label='a=0.5, b=0.5')\n",
        "plt.plot(x, stats.beta(a=0.5,b=1).pdf(x), label='a=0.5, b=1')\n",
        "plt.plot(x, ((x**(-0.5))*((1-x)**(-0.5))), label='custom func def')\n",
        "plt.legend()\n",
        "plt.title(\"Jeffrey's prior - Beta(1/2, 1/2)\")\n",
        "plt.show()"
      ],
      "execution_count": null,
      "outputs": [
        {
          "output_type": "stream",
          "text": [
            "/usr/local/lib/python3.6/dist-packages/ipykernel_launcher.py:3: RuntimeWarning: divide by zero encountered in power\n",
            "  This is separate from the ipykernel package so we can avoid doing imports until\n"
          ],
          "name": "stderr"
        },
        {
          "output_type": "display_data",
          "data": {
            "image/png": "[encoded data removed]",
            "text/plain": [
              "<Figure size 432x288 with 1 Axes>"
            ]
          },
          "metadata": {
            "tags": [],
            "needs_background": "light"
          }
        }
      ]
    },
    {
      "cell_type": "markdown",
      "metadata": {
        "id": "Ms9sqRhxjToS"
      },
      "source": [
        "### Dirichlet distribution\r\n",
        "\r\n",
        "It's a multivariate generalization of Beta distribution.\r\n",
        "\r\n",
        "It's PDF is given by -\r\n",
        "\r\n",
        "$f(x|\\alpha) = \\frac{1}{B(\\alpha)} \\prod_i^Kx_i^{\\alpha_i - 1}$\r\n",
        "\r\n",
        "$ \\alpha = (\\alpha_1,\\alpha_2,...,\\alpha_K)$ denotes the concentration parameters $(\\alpha_i > 0) $ \r\n",
        "\r\n",
        "where support x is a standard K-1 simplex, \r\n",
        "\r\n",
        "x = $(x_1,x_2,..,x_K)$  and follows $ x_i \\in {[0,1]} $\r\n",
        "\r\n",
        "$\\sum_i x_i = 1$  i.e the sum of coordinates equal to 1.\r\n",
        "\r\n",
        "K = No. of categories\r\n",
        "\r\n",
        "When K = 2, we get Beta distribution\r\n",
        "\r\n",
        "$B(\\alpha)$ is a normalizing constant and is a multivariate Beta function\r\n",
        "\r\n",
        "For example, with K = 3, the support is an equilateral triangle embedded in a downward-angle fashion in three-dimensional space, with vertices at (1,0,0), (0,1,0) and (0,0,1), i.e. touching each of the coordinate axes at a point 1 unit away from the origin.\r\n",
        "\r\n",
        "\r\n",
        "A dirichlet prior is a conjugate to a multinomial likelihood.\r\n",
        "\r\n",
        "### Generating Dirichlet priors"
      ]
    },
    {
      "cell_type": "code",
      "metadata": {
        "colab": {
          "base_uri": "https://localhost:8080/"
        },
        "id": "-5K9MCOn07bI",
        "outputId": "71dc4c9d-a06e-4bb1-9364-5ca84c79fd42"
      },
      "source": [
        "K = 3 \r\n",
        "alpha = (5,5,2)\r\n",
        "\r\n",
        "# Let's initialize topic distribution in a text document with a Dirichlet prior for K=3 topics\r\n",
        "dirchlet_prior = np.random.dirichlet(alpha, size=(1,))\r\n",
        "dirchlet_prior"
      ],
      "execution_count": 18,
      "outputs": [
        {
          "output_type": "execute_result",
          "data": {
            "text/plain": [
              "array([[0.36839927, 0.39670226, 0.23489847]])"
            ]
          },
          "metadata": {
            "tags": []
          },
          "execution_count": 18
        }
      ]
    },
    {
      "cell_type": "markdown",
      "metadata": {
        "id": "GTOtseVa7_Ef"
      },
      "source": [
        "### Multinomial Distribution"
      ]
    },
    {
      "cell_type": "code",
      "metadata": {
        "colab": {
          "base_uri": "https://localhost:8080/"
        },
        "id": "JLhNI8wY79sl",
        "outputId": "37d2a327-c726-4685-bd75-81d890b19349"
      },
      "source": [
        "# Dice throwing experiment\r\n",
        "n = 10                   # Total trials\r\n",
        "p = [1/6, 1/6, 1/6, 1/6, 1/6, 1/6]\r\n",
        "\r\n",
        "# Get the no. of times we get 1, 2, 3, 4, 5 & 6\r\n",
        "np.random.multinomial(n=n, pvals=p)"
      ],
      "execution_count": 24,
      "outputs": [
        {
          "output_type": "execute_result",
          "data": {
            "text/plain": [
              "array([6, 1, 2, 0, 1, 0])"
            ]
          },
          "metadata": {
            "tags": []
          },
          "execution_count": 24
        }
      ]
    },
    {
      "cell_type": "markdown",
      "metadata": {
        "id": "oI6Un1-cNCJI"
      },
      "source": [
        "#### References\n",
        "* https://internal.ncl.ac.uk/ask/numeracy-maths-statistics/images/Poisson_dist.pdf\n",
        "* http://www.doc.ic.ac.uk/~wbai/notes/Beta/beta.html#:~:text=The%20Dirichlet%20distribution%20is%20a,generalisation%20of%20the%20beta%20distribution.\n",
        "* https://en.wikipedia.org/wiki/Dirichlet_distribution#:~:text=The%20technical%20term%20for%20the,in%20the%20next%2Dhigher%20dimension.\n",
        "\n"
      ]
    }
  ]
}
