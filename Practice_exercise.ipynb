{
  "nbformat": 4,
  "nbformat_minor": 0,
  "metadata": {
    "colab": {
      "provenance": [],
      "authorship_tag": "ABX9TyONhj3CJz8uZo175E3euvmg",
      "include_colab_link": true
    },
    "kernelspec": {
      "name": "python3",
      "display_name": "Python 3"
    }
  },
  "cells": [
    {
      "cell_type": "markdown",
      "metadata": {
        "id": "view-in-github",
        "colab_type": "text"
      },
      "source": [
        "<a href=\"https://colab.research.google.com/github/Taaniya/bayesian-statistics-coursera/blob/main/Practice_exercise.ipynb\" target=\"_parent\"><img src=\"https://colab.research.google.com/assets/colab-badge.svg\" alt=\"Open In Colab\"/></a>"
      ]
    },
    {
      "cell_type": "code",
      "metadata": {
        "id": "S95SvJDz25OY",
        "colab": {
          "base_uri": "https://localhost:8080/",
          "height": 445
        },
        "outputId": "ba0395ef-0796-41a7-f731-a873bf80a9ed"
      },
      "source": [
        "! pip install arviz"
      ],
      "execution_count": null,
      "outputs": [
        {
          "output_type": "stream",
          "text": [
            "Collecting arviz\n",
            "\u001b[?25l  Downloading https://files.pythonhosted.org/packages/d2/ed/2f9d0217fac295b3dd158195060e5350c1c9a2abcba04030a426a15fd908/arviz-0.9.0-py3-none-any.whl (1.5MB)\n",
            "\u001b[K     |████████████████████████████████| 1.5MB 2.7MB/s \n",
            "\u001b[?25hRequirement already satisfied: pandas>=0.23 in /usr/local/lib/python3.6/dist-packages (from arviz) (1.0.5)\n",
            "Requirement already satisfied: packaging in /usr/local/lib/python3.6/dist-packages (from arviz) (20.4)\n",
            "Requirement already satisfied: numpy>=1.12 in /usr/local/lib/python3.6/dist-packages (from arviz) (1.18.5)\n",
            "Collecting netcdf4\n",
            "\u001b[?25l  Downloading https://files.pythonhosted.org/packages/35/4f/d49fe0c65dea4d2ebfdc602d3e3d2a45a172255c151f4497c43f6d94a5f6/netCDF4-1.5.3-cp36-cp36m-manylinux1_x86_64.whl (4.1MB)\n",
            "\u001b[K     |████████████████████████████████| 4.1MB 16.0MB/s \n",
            "\u001b[?25hRequirement already satisfied: xarray>=0.11 in /usr/local/lib/python3.6/dist-packages (from arviz) (0.15.1)\n",
            "Requirement already satisfied: scipy>=0.19 in /usr/local/lib/python3.6/dist-packages (from arviz) (1.4.1)\n",
            "Requirement already satisfied: matplotlib>=3.0 in /usr/local/lib/python3.6/dist-packages (from arviz) (3.2.2)\n",
            "Requirement already satisfied: python-dateutil>=2.6.1 in /usr/local/lib/python3.6/dist-packages (from pandas>=0.23->arviz) (2.8.1)\n",
            "Requirement already satisfied: pytz>=2017.2 in /usr/local/lib/python3.6/dist-packages (from pandas>=0.23->arviz) (2018.9)\n",
            "Requirement already satisfied: six in /usr/local/lib/python3.6/dist-packages (from packaging->arviz) (1.12.0)\n",
            "Requirement already satisfied: pyparsing>=2.0.2 in /usr/local/lib/python3.6/dist-packages (from packaging->arviz) (2.4.7)\n",
            "Collecting cftime\n",
            "\u001b[?25l  Downloading https://files.pythonhosted.org/packages/0f/5e/ee154e2aabb0beea0c4c7dc3d93c6f64f96a2a2019bbd05afc905439d042/cftime-1.1.3-cp36-cp36m-manylinux1_x86_64.whl (322kB)\n",
            "\u001b[K     |████████████████████████████████| 327kB 43.7MB/s \n",
            "\u001b[?25hRequirement already satisfied: setuptools>=41.2 in /usr/local/lib/python3.6/dist-packages (from xarray>=0.11->arviz) (47.3.1)\n",
            "Requirement already satisfied: cycler>=0.10 in /usr/local/lib/python3.6/dist-packages (from matplotlib>=3.0->arviz) (0.10.0)\n",
            "Requirement already satisfied: kiwisolver>=1.0.1 in /usr/local/lib/python3.6/dist-packages (from matplotlib>=3.0->arviz) (1.2.0)\n",
            "Installing collected packages: cftime, netcdf4, arviz\n",
            "Successfully installed arviz-0.9.0 cftime-1.1.3 netcdf4-1.5.3\n"
          ],
          "name": "stdout"
        }
      ]
    },
    {
      "cell_type": "code",
      "metadata": {
        "id": "KwRm8bguJD99"
      },
      "source": [
        "import matplotlib.pyplot as plt\n",
        "import scipy\n",
        "import numpy as np\n",
        "import pymc3 as pm\n",
        "from scipy.special import comb\n",
        "import arviz as az"
      ],
      "execution_count": null,
      "outputs": []
    },
    {
      "cell_type": "markdown",
      "metadata": {
        "id": "gbk_IyCW6Kqo"
      },
      "source": [
        "### Week 3\n",
        "\n",
        "#### Beta Binomial Conjugate Analysis and working with Binomial Beta distribution using Python.\n",
        "\n",
        "\n",
        "Suppose we give 2 students 40 MCQ questions each with 4 choices. We dont't know how much they have studied for the exam but we guess that they'll do better than just guessing randomly.\n",
        "\n",
        "### How we will solve this?\n",
        "We will ask ourselves the following questions.\n",
        " i.e Problem formulation\n",
        "\n",
        "1. Define our parameters of interest\n",
        "2. What is our likelihood?\n",
        "3. Define priors for paramaters, which priors to use?\n",
        "4. Compute prior probability p(theta > .25), p(theta > 0.5), p(theta > 0.8)\n",
        "5. Computing posterior probability if the 1st student gets 33 questions right.\n",
        "Computing posterior probability for theta1 p(theta > .25), p(theta > 0.5), p(theta > 0.8) and obtaining 95% posterior credible interval for theta1.\n",
        "6. Computing posterior probability if the 2nd student gest 24 questions right.\n",
        "Computing posterior probability for theta2 p(theta > .25), p(theta > 0.5), p(theta > 0.8) and obtaining 95% posterior credible interval for theta2.\n",
        "7. What's the posterior probability that theta1 > theta2? i.e  the probability that the 1st student has a better chance of getting the questions right than the other student?\n",
        "\n",
        "### Solution\n",
        "\n",
        "1. Let theta1 and theta2 be the probabilities of the 1st and 2nd student to answer the questions correctly respectively.\n",
        "2. For each question there are 2 outcome, answering correctly or incorrecly. We assume each question is independent of the other and each question has equal probability of being answered correclty for that student. Hence, the likelihood id Binomial likelihood with N=40 trials.\n",
        "\n",
        "$ Binomial(40, theta) $\n",
        "\n",
        "3. We can use Beta prior since it's a conjugate prior for Binomial likelihood.\n",
        "Since, the given information is that we think that the students can do better than guessing randomly, where a random guess would be 1/4 with given 4 multiple choices given. Hence, our prior probability mass will be largely greater than 1/4 i.e 0.25, let's say a distribution with prior mean greater than a half , say two-thirds.\n",
        "\n",
        "Let's try some distributions and choose which one suits.\n",
        "\n",
        "1. Uniform prior from Beta(1,1)"
      ]
    },
    {
      "cell_type": "code",
      "metadata": {
        "id": "Ybdu2h8K6E9R",
        "colab": {
          "base_uri": "https://localhost:8080/",
          "height": 265
        },
        "outputId": "b5f4dd45-40c3-4f04-8e19-84a079c82480"
      },
      "source": [
        "x = np.arange(0,1, step=0.01)\n",
        "\n",
        "beta_dist = scipy.stats.beta(a=1, b=1)\n",
        "plt.scatter(x,beta_dist.pdf(x))\n",
        "plt.show()"
      ],
      "execution_count": null,
      "outputs": [
        {
          "output_type": "display_data",
          "data": {
            "image/png": "[encoded data removed]",
            "text/plain": [
              "<Figure size 432x288 with 1 Axes>"
            ]
          },
          "metadata": {
            "tags": [],
            "needs_background": "light"
          }
        }
      ]
    },
    {
      "cell_type": "markdown",
      "metadata": {
        "id": "db89UDCxQQdx"
      },
      "source": [
        "This doesn't encode our belief that the students are doing better than guessing randomly. Choosing the prior with mean two-third using Beta(4,2)\n",
        "\n"
      ]
    },
    {
      "cell_type": "code",
      "metadata": {
        "id": "elYLm2WZPmLF",
        "colab": {
          "base_uri": "https://localhost:8080/",
          "height": 265
        },
        "outputId": "e3d9648e-b003-4122-9237-1dfdf5ba31e0"
      },
      "source": [
        "beta_dist2 = scipy.stats.beta(a=4, b=2)\n",
        "plt.scatter(x,beta_dist2.pdf(x))\n",
        "plt.show()"
      ],
      "execution_count": null,
      "outputs": [
        {
          "output_type": "display_data",
          "data": {
            "image/png": "[encoded data removed]",
            "text/plain": [
              "<Figure size 432x288 with 1 Axes>"
            ]
          },
          "metadata": {
            "tags": [],
            "needs_background": "light"
          }
        }
      ]
    },
    {
      "cell_type": "markdown",
      "metadata": {
        "id": "_ATrV9BzRGDQ"
      },
      "source": [
        "The above distribution has most of the mass above 0.25 but still has some below 0.25.\n",
        "\n",
        "The effective sample size of a prior $p(\\theta|\\theta \\sim)$ is the number of observations that startig with a vague version of a prior,gives a posterior very close to the $p(\\theta | \\theta \\sim)$\n",
        "\n",
        "https://www.ncbi.nlm.nih.gov/pmc/articles/PMC4229398/#:~:text=with%20this%20issue.-,Prior%20Effective%20Sample%20Size,may%20be%20summarized%20as%20follows.\n",
        "\n",
        "As we increase the parameter values, it increases the effective samples size and concentrates distribution. Now, we'll try a Beta distribution with parameters 8 & 4 which still maintains a prior mean of two-thirds.\n"
      ]
    },
    {
      "cell_type": "code",
      "metadata": {
        "id": "I3dER70CQnbW",
        "colab": {
          "base_uri": "https://localhost:8080/",
          "height": 265
        },
        "outputId": "4e610d86-9f2d-47c3-ac4a-deb2ed80efe1"
      },
      "source": [
        "alpha = 8\n",
        "beta = 4\n",
        "beta_dist3 = scipy.stats.beta(a=alpha, b=beta)\n",
        "plt.scatter(x,beta_dist3.pdf(x))\n",
        "plt.show()"
      ],
      "execution_count": null,
      "outputs": [
        {
          "output_type": "display_data",
          "data": {
            "image/png": "[encoded data removed]",
            "text/plain": [
              "<Figure size 432x288 with 1 Axes>"
            ]
          },
          "metadata": {
            "tags": [],
            "needs_background": "light"
          }
        }
      ]
    },
    {
      "cell_type": "markdown",
      "metadata": {
        "id": "q7gAHJnka5uR"
      },
      "source": [
        "This distribution has almost all the mass above 0.25 and hence, now seems reasonably suitable as a prior for this problem.\n",
        "\n",
        "4. Computing prior probabilities that the probability P(theta > 0.25) , P(theta > 0.5) , P(theta > 0.8)"
      ]
    },
    {
      "cell_type": "code",
      "metadata": {
        "id": "CGQfipZkarDF",
        "colab": {
          "base_uri": "https://localhost:8080/",
          "height": 68
        },
        "outputId": "77a1cbf7-99a2-40e0-cf13-4fbf6a2290e9"
      },
      "source": [
        "# P(theta > 0.25 )  = 1 - P(theta <= 0.25).\n",
        "# We can use the survival function which computes the value 1 - CDF(x)\n",
        "print(\"P(theta > 0.25 ) : {}\".format(beta_dist3.sf(x=0.25)))\n",
        "print(\"P(theta > 0.5 ) : {}\".format(beta_dist3.sf(x=0.5)))\n",
        "print(\"P(theta > 0.8 ) : {}\".format(beta_dist3.sf(x=0.8)))\n"
      ],
      "execution_count": null,
      "outputs": [
        {
          "output_type": "stream",
          "text": [
            "P(theta > 0.25 ) : 0.9988117218017578\n",
            "P(theta > 0.5 ) : 0.88671875\n",
            "P(theta > 0.8 ) : 0.16113919999999993\n"
          ],
          "name": "stdout"
        }
      ]
    },
    {
      "cell_type": "markdown",
      "metadata": {
        "id": "s1tQOYyEexN-"
      },
      "source": [
        "5. Posterior probability afer a student answering y=33 questions correctly.\n",
        "\n",
        "The posterior probability is a beta distribution with Beta(a+y, b+n-y)"
      ]
    },
    {
      "cell_type": "code",
      "metadata": {
        "id": "2pZ25ekuhNgW"
      },
      "source": [
        "def likelihood(n,y,p):\n",
        "  return comb(N=n, k=y) *(p**y)*((1-p)**(n-y))"
      ],
      "execution_count": null,
      "outputs": []
    },
    {
      "cell_type": "code",
      "metadata": {
        "id": "T5RqXsD4cFRN",
        "colab": {
          "base_uri": "https://localhost:8080/",
          "height": 265
        },
        "outputId": "198159f8-d574-426c-9178-007279830854"
      },
      "source": [
        "y1 = 33\n",
        "n = 40\n",
        "a = alpha + y1\n",
        "b = beta + n - y1\n",
        "likelihood1 = scipy.stats.binom.pmf(k=y1,n=n, p=x)\n",
        "post_dist1 = scipy.stats.beta(a=a, b=b)\n",
        "plt.scatter(x,beta_dist3.pdf(x),marker='x', c='orange', label='Prior')\n",
        "plt.scatter(x, post_dist1.pdf(x), marker='o', c='blue', label='Posterior')\n",
        "plt.scatter(x, 44*likelihood1, marker='s', c='red',label='likelihood')\n",
        "plt.legend()\n",
        "plt.show()"
      ],
      "execution_count": null,
      "outputs": [
        {
          "output_type": "display_data",
          "data": {
            "image/png": "[encoded data removed]",
            "text/plain": [
              "<Figure size 432x288 with 1 Axes>"
            ]
          },
          "metadata": {
            "tags": [],
            "needs_background": "light"
          }
        }
      ]
    },
    {
      "cell_type": "markdown",
      "metadata": {
        "id": "9nwRS0SIwqEw"
      },
      "source": [
        "The posterior is more concentrated as we get more information and is more closer to the likelihood since there is more information there with 40 samples whereas the prior has effective samples size of 8+4=12 ."
      ]
    },
    {
      "cell_type": "code",
      "metadata": {
        "id": "zzRy6-4twQBR",
        "colab": {
          "base_uri": "https://localhost:8080/",
          "height": 34
        },
        "outputId": "56b576fa-d0c2-421b-ce58-c1c6bbe37744"
      },
      "source": [
        "# Prior mean\n",
        "beta_dist3.expect(lb=0, ub=1), alpha/(alpha+beta)"
      ],
      "execution_count": null,
      "outputs": [
        {
          "output_type": "execute_result",
          "data": {
            "text/plain": [
              "(0.6666666666666665, 0.6666666666666666)"
            ]
          },
          "metadata": {
            "tags": []
          },
          "execution_count": 52
        }
      ]
    },
    {
      "cell_type": "code",
      "metadata": {
        "id": "2ggIX9kFfa5x",
        "colab": {
          "base_uri": "https://localhost:8080/",
          "height": 34
        },
        "outputId": "71c96cb0-8fb8-4c21-c35a-9a12f8f47155"
      },
      "source": [
        "# Maximum likelihood estimate = y/n\n",
        "y1/n"
      ],
      "execution_count": null,
      "outputs": [
        {
          "output_type": "execute_result",
          "data": {
            "text/plain": [
              "0.825"
            ]
          },
          "metadata": {
            "tags": []
          },
          "execution_count": 51
        }
      ]
    },
    {
      "cell_type": "code",
      "metadata": {
        "id": "a4wN-27BsIv7",
        "colab": {
          "base_uri": "https://localhost:8080/",
          "height": 34
        },
        "outputId": "81ab524b-227c-4046-8ca3-7429596c5789"
      },
      "source": [
        "# Posterior mean from random variate x=0 to x=1\n",
        "post_dist1.expect(lb=0, ub=1),  a/(a+b)"
      ],
      "execution_count": null,
      "outputs": [
        {
          "output_type": "execute_result",
          "data": {
            "text/plain": [
              "(0.7884615384615398, 0.7884615384615384)"
            ]
          },
          "metadata": {
            "tags": []
          },
          "execution_count": 49
        }
      ]
    },
    {
      "cell_type": "markdown",
      "metadata": {
        "id": "CPirIySNv3zS"
      },
      "source": [
        "The posterior mean is between prior mean of two-thirds and the Maximum likelihood estimate"
      ]
    },
    {
      "cell_type": "code",
      "metadata": {
        "id": "sqAkwfnnt3lm",
        "colab": {
          "base_uri": "https://localhost:8080/",
          "height": 119
        },
        "outputId": "e49db6cd-4a80-40ea-92b4-55815077afa3"
      },
      "source": [
        "with pm.Model() as model1:\n",
        "  theta1 = pm.Beta('theta1',alpha=alpha, beta=beta,mu=2/3)\n",
        "  likelihood1 = pm.Binomial('student1',n=n, p=theta1, observed=33)\n",
        "  trace1 = pm.sample(1000)\n"
      ],
      "execution_count": null,
      "outputs": [
        {
          "output_type": "stream",
          "text": [
            "Auto-assigning NUTS sampler...\n",
            "Initializing NUTS using jitter+adapt_diag...\n",
            "Sequential sampling (2 chains in 1 job)\n",
            "NUTS: [theta1]\n",
            "100%|██████████| 1500/1500 [00:01<00:00, 1356.64it/s]\n",
            "100%|██████████| 1500/1500 [00:00<00:00, 2412.57it/s]\n"
          ],
          "name": "stderr"
        }
      ]
    },
    {
      "cell_type": "code",
      "metadata": {
        "id": "RXi4atpY2FDc",
        "colab": {
          "base_uri": "https://localhost:8080/",
          "height": 34
        },
        "outputId": "b8336bc3-8523-4053-872b-f5d9a2c94fee"
      },
      "source": [
        "# Posterior mean using pymc\n",
        "trace1['theta1'].mean()"
      ],
      "execution_count": null,
      "outputs": [
        {
          "output_type": "execute_result",
          "data": {
            "text/plain": [
              "0.7866125287631928"
            ]
          },
          "metadata": {
            "tags": []
          },
          "execution_count": 68
        }
      ]
    },
    {
      "cell_type": "code",
      "metadata": {
        "id": "73WEkQ5j1IH8",
        "colab": {
          "base_uri": "https://localhost:8080/",
          "height": 68
        },
        "outputId": "cb8f5396-92a0-4131-af9b-5c030a5596ab"
      },
      "source": [
        "# Posterior probability\n",
        "print(\"P(theta > 0.25 ) : {}\".format(post_dist1.sf(x=0.25)))\n",
        "print(\"P(theta > 0.5 ) : {}\".format(post_dist1.sf(x=0.5)))\n",
        "print(\"P(theta > 0.8 ) : {}\".format(post_dist1.sf(x=0.8)))\n"
      ],
      "execution_count": null,
      "outputs": [
        {
          "output_type": "stream",
          "text": [
            "P(theta > 0.25 ) : 0.9999999999999999\n",
            "P(theta > 0.5 ) : 0.9999926311420575\n",
            "P(theta > 0.8 ) : 0.44440438256879644\n"
          ],
          "name": "stdout"
        }
      ]
    },
    {
      "cell_type": "code",
      "metadata": {
        "id": "vNY-xef51u3N",
        "colab": {
          "base_uri": "https://localhost:8080/",
          "height": 34
        },
        "outputId": "de4dba86-f39d-41de-8462-67f40d87cb6f"
      },
      "source": [
        "# Equal tailed 95%  credible interval\n",
        "post_dist1.interval(alpha=.95)"
      ],
      "execution_count": null,
      "outputs": [
        {
          "output_type": "execute_result",
          "data": {
            "text/plain": [
              "(0.6688426487470713, 0.8871094002502565)"
            ]
          },
          "metadata": {
            "tags": []
          },
          "execution_count": 69
        }
      ]
    },
    {
      "cell_type": "code",
      "metadata": {
        "id": "O4R31u1b3pRc",
        "colab": {
          "base_uri": "https://localhost:8080/",
          "height": 85
        },
        "outputId": "65d42726-f2df-454d-d059-847830e15b34"
      },
      "source": [
        "# HPD interval\n",
        "pm.hpd(trace1,alpha=0.05 )"
      ],
      "execution_count": null,
      "outputs": [
        {
          "output_type": "execute_result",
          "data": {
            "text/plain": [
              "{0: {'theta1': array([0.67180173, 0.87983646]),\n",
              "  'theta1_logodds__': array([0.69341552, 1.95255307])},\n",
              " 1: {'theta1': array([0.6703603 , 0.89720936]),\n",
              "  'theta1_logodds__': array([0.64345437, 2.04924574])}}"
            ]
          },
          "metadata": {
            "tags": []
          },
          "execution_count": 86
        }
      ]
    },
    {
      "cell_type": "code",
      "metadata": {
        "id": "inu6ptP33pNh",
        "colab": {
          "base_uri": "https://localhost:8080/",
          "height": 34
        },
        "outputId": "c86cf04e-85d7-4ffd-ae43-88367820ce9e"
      },
      "source": [
        "np.percentile(trace1['theta1'],2.5) , np.percentile(trace1['theta1'], 97.5)"
      ],
      "execution_count": null,
      "outputs": [
        {
          "output_type": "execute_result",
          "data": {
            "text/plain": [
              "(0.6677771375488525, 0.8857133260735822)"
            ]
          },
          "metadata": {
            "tags": []
          },
          "execution_count": 95
        }
      ]
    },
    {
      "cell_type": "markdown",
      "metadata": {
        "id": "zAQBwQ8u5v4H"
      },
      "source": [
        "### 6. Second student who answered 24 questions correctly"
      ]
    },
    {
      "cell_type": "code",
      "metadata": {
        "id": "J19zg3ON3pGY"
      },
      "source": [
        "y2 = 24"
      ],
      "execution_count": null,
      "outputs": []
    },
    {
      "cell_type": "code",
      "metadata": {
        "id": "gBzEkP2zxBw7",
        "colab": {
          "base_uri": "https://localhost:8080/",
          "height": 119
        },
        "outputId": "eb2d086d-a5b5-42f4-a89a-6984ae045666"
      },
      "source": [
        "with pm.Model() as model2:\n",
        "  theta2 = pm.Beta('theta2',alpha=alpha, beta=beta,mu=2/3)\n",
        "  likelihood2 = pm.Binomial('student2',n=n, p=theta2, observed=y2)\n",
        "  trace2 = pm.sample(1000)"
      ],
      "execution_count": null,
      "outputs": [
        {
          "output_type": "stream",
          "text": [
            "Auto-assigning NUTS sampler...\n",
            "Initializing NUTS using jitter+adapt_diag...\n",
            "Sequential sampling (2 chains in 1 job)\n",
            "NUTS: [theta2]\n",
            "100%|██████████| 1500/1500 [00:00<00:00, 2351.80it/s]\n",
            "100%|██████████| 1500/1500 [00:00<00:00, 2498.64it/s]\n"
          ],
          "name": "stderr"
        }
      ]
    },
    {
      "cell_type": "code",
      "metadata": {
        "id": "leKKOY6u6Ea5",
        "colab": {
          "base_uri": "https://localhost:8080/",
          "height": 282
        },
        "outputId": "638a15fe-5218-40d7-eb49-dec6c9f98120"
      },
      "source": [
        "a2 = alpha + y2\n",
        "b2 = beta + n - y2\n",
        "print(\"Student 2: Posterior distribution with Beta({},{})\".format(a2,b2))\n",
        "likelihood2 = scipy.stats.binom.pmf(k=y2,n=n, p=x)\n",
        "post_dist2 = scipy.stats.beta(a=a2, b=b2)\n",
        "plt.scatter(x,beta_dist3.pdf(x),marker='x', c='orange', label='Prior')\n",
        "plt.scatter(x, post_dist2.pdf(x), marker='o', c='blue', label='Posterior')\n",
        "plt.scatter(x, 44*likelihood2, marker='s', c='red',label='likelihood')\n",
        "plt.legend()\n",
        "plt.show()"
      ],
      "execution_count": null,
      "outputs": [
        {
          "output_type": "stream",
          "text": [
            "Student 2: Posterior distribution with Beta(32,20)\n"
          ],
          "name": "stdout"
        },
        {
          "output_type": "display_data",
          "data": {
            "image/png": "[encoded data removed]",
            "text/plain": [
              "<Figure size 432x288 with 1 Axes>"
            ]
          },
          "metadata": {
            "tags": [],
            "needs_background": "light"
          }
        }
      ]
    },
    {
      "cell_type": "code",
      "metadata": {
        "id": "R9zFUxEK7Dx4",
        "colab": {
          "base_uri": "https://localhost:8080/",
          "height": 34
        },
        "outputId": "99f17180-ff56-4e25-bd16-4520cc6ffb46"
      },
      "source": [
        "# MLE for student 2\n",
        "y2/n"
      ],
      "execution_count": null,
      "outputs": [
        {
          "output_type": "execute_result",
          "data": {
            "text/plain": [
              "0.6"
            ]
          },
          "metadata": {
            "tags": []
          },
          "execution_count": 100
        }
      ]
    },
    {
      "cell_type": "code",
      "metadata": {
        "id": "u5UjM3d47jbx",
        "colab": {
          "base_uri": "https://localhost:8080/",
          "height": 34
        },
        "outputId": "cfed13a7-f0b1-4369-93a3-40988761f19f"
      },
      "source": [
        "# Posterior mean\n",
        "post_dist2.expect(lb=0, ub=1), a2/(a2+b2)"
      ],
      "execution_count": null,
      "outputs": [
        {
          "output_type": "execute_result",
          "data": {
            "text/plain": [
              "(0.6153846153846143, 0.6153846153846154)"
            ]
          },
          "metadata": {
            "tags": []
          },
          "execution_count": 101
        }
      ]
    },
    {
      "cell_type": "code",
      "metadata": {
        "id": "2LBty1_R7xiH",
        "colab": {
          "base_uri": "https://localhost:8080/",
          "height": 68
        },
        "outputId": "aca9b50d-5316-465c-b8ec-9955e8694b37"
      },
      "source": [
        "# Posterior probability for student 2\n",
        "print(\"P(theta > 0.25 ) : {}\".format(post_dist2.sf(x=0.25)))\n",
        "print(\"P(theta > 0.5 ) : {}\".format(post_dist2.sf(x=0.5)))\n",
        "print(\"P(theta > 0.8 ) : {}\".format(post_dist2.sf(x=0.8)))\n"
      ],
      "execution_count": null,
      "outputs": [
        {
          "output_type": "stream",
          "text": [
            "P(theta > 0.25 ) : 0.9999999863130408\n",
            "P(theta > 0.5 ) : 0.9540427250920729\n",
            "P(theta > 0.8 ) : 0.001248189858039872\n"
          ],
          "name": "stdout"
        }
      ]
    },
    {
      "cell_type": "code",
      "metadata": {
        "id": "QyUpmTH-8jgc",
        "colab": {
          "base_uri": "https://localhost:8080/",
          "height": 34
        },
        "outputId": "78ea7dfc-c1f6-44e0-cc93-767f3d6643e5"
      },
      "source": [
        "# 95% credible interval for 2nd Student\n",
        "np.percentile(trace2['theta2'],2.5) , np.percentile(trace2['theta2'], 97.5)"
      ],
      "execution_count": null,
      "outputs": [
        {
          "output_type": "execute_result",
          "data": {
            "text/plain": [
              "(0.47796274152152063, 0.7465590659941858)"
            ]
          },
          "metadata": {
            "tags": []
          },
          "execution_count": 103
        }
      ]
    },
    {
      "cell_type": "markdown",
      "metadata": {
        "id": "3YWf1D3K9SAo"
      },
      "source": [
        "Both the lower and upper values in this interval is smaller than the 1st and makes sense to be so since the 2nd student didn't as many questions right as  the 1st one."
      ]
    },
    {
      "cell_type": "markdown",
      "metadata": {
        "id": "EjuIVjDO9khN"
      },
      "source": [
        "7. Though the lower and upper value of interval for the 2nd student is lesser than the 1st one, What is the probability that theta1 > theta2 i.e the 1sst student will answer more questions correctly than the 2nd one?\n",
        "\n",
        "To figure this out, we will observe the posterior samples after observing the results of each student and compare how often was theta1 > theta2.\n",
        "The average of comparison will give us an estimate between 0 and 1 which we can interpret as  the probability of theta1 > theta2."
      ]
    },
    {
      "cell_type": "code",
      "metadata": {
        "id": "IyhSd1Qw-niB",
        "colab": {
          "base_uri": "https://localhost:8080/",
          "height": 34
        },
        "outputId": "3331ca81-41c3-43af-e3db-8c8a59ec4801"
      },
      "source": [
        "np.mean(post_dist1.rvs(1000) > post_dist2.rvs(1000))"
      ],
      "execution_count": null,
      "outputs": [
        {
          "output_type": "execute_result",
          "data": {
            "text/plain": [
              "0.978"
            ]
          },
          "metadata": {
            "tags": []
          },
          "execution_count": 105
        }
      ]
    },
    {
      "cell_type": "code",
      "metadata": {
        "id": "rSW7ms8L9B3o",
        "colab": {
          "base_uri": "https://localhost:8080/",
          "height": 34
        },
        "outputId": "8de10976-e7f9-4a14-cd87-4774399b9bde"
      },
      "source": [
        "np.mean(trace1['theta1'] > trace2['theta2'])"
      ],
      "execution_count": null,
      "outputs": [
        {
          "output_type": "execute_result",
          "data": {
            "text/plain": [
              "0.9745"
            ]
          },
          "metadata": {
            "tags": []
          },
          "execution_count": 104
        }
      ]
    },
    {
      "cell_type": "markdown",
      "metadata": {
        "id": "MM3wtjvS-zoe"
      },
      "source": [
        "From both the ways of obtaining samples, we see that the probability of theta1 > theta2 is ~ 0.97."
      ]
    },
    {
      "cell_type": "code",
      "metadata": {
        "id": "IsPQ-g50_m95"
      },
      "source": [],
      "execution_count": null,
      "outputs": []
    }
  ]
}